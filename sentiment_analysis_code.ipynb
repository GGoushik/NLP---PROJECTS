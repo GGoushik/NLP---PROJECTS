{
  "nbformat": 4,
  "nbformat_minor": 0,
  "metadata": {
    "colab": {
      "provenance": [],
      "authorship_tag": "ABX9TyNoOi5+GQCd9ZkrvDwgZI/h",
      "include_colab_link": true
    },
    "kernelspec": {
      "name": "python3",
      "display_name": "Python 3"
    },
    "language_info": {
      "name": "python"
    }
  },
  "cells": [
    {
      "cell_type": "markdown",
      "metadata": {
        "id": "view-in-github",
        "colab_type": "text"
      },
      "source": [
        "<a href=\"https://colab.research.google.com/github/GGoushik/NLP---PROJECTS/blob/main/sentiment_analysis_code.ipynb\" target=\"_parent\"><img src=\"https://colab.research.google.com/assets/colab-badge.svg\" alt=\"Open In Colab\"/></a>"
      ]
    },
    {
      "cell_type": "code",
      "execution_count": null,
      "metadata": {
        "colab": {
          "base_uri": "https://localhost:8080/"
        },
        "id": "zuqGWc9eKasK",
        "outputId": "58cde7cd-5469-420e-d83c-f77535750716"
      },
      "outputs": [
        {
          "output_type": "stream",
          "name": "stderr",
          "text": [
            "[nltk_data] Downloading package vader_lexicon to /root/nltk_data...\n",
            "[nltk_data]   Package vader_lexicon is already up-to-date!\n"
          ]
        },
        {
          "output_type": "stream",
          "name": "stdout",
          "text": [
            "i am frustrated\n",
            "Sentiment: Negative\n",
            "Compound Score: -0.5267\n"
          ]
        }
      ],
      "source": [
        "import nltk\n",
        "from nltk.sentiment.vader import SentimentIntensityAnalyzer\n",
        "nltk.download('vader_lexicon')\n",
        "analyzer = SentimentIntensityAnalyzer()\n",
        "\n",
        "# Sample text for sentiment analysis\n",
        "text = input()\n",
        "\n",
        "# Get sentiment scores\n",
        "sentiment_scores = analyzer.polarity_scores(text)\n",
        "\n",
        "# Interpret sentiment scores\n",
        "compound_score = sentiment_scores['compound']\n",
        "\n",
        "if compound_score >= 0.05:\n",
        "    sentiment = \"Positive\"\n",
        "elif compound_score <= -0.05:\n",
        "    sentiment = \"Negative\"\n",
        "else:\n",
        "    sentiment = \"Neutral\"\n",
        "\n",
        "# Print sentiment results\n",
        "print(f\"Sentiment: {sentiment}\")\n",
        "print(f\"Compound Score: {compound_score}\")\n"
      ]
    }
  ]
}